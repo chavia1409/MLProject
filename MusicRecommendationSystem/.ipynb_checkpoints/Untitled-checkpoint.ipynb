{
 "cells": [
  {
   "cell_type": "markdown",
   "id": "45c796a0",
   "metadata": {},
   "source": [
    "#### model-based colaborative filtering --> unsupervised machine learning \n"
   ]
  },
  {
   "cell_type": "markdown",
   "id": "b6b06980",
   "metadata": {},
   "source": [
    "# import modules"
   ]
  },
  {
   "cell_type": "code",
   "execution_count": 1,
   "id": "1384d4f0",
   "metadata": {},
   "outputs": [],
   "source": [
    "import pandas as pd\n",
    "import numpy as np"
   ]
  },
  {
   "cell_type": "markdown",
   "id": "ca103abc",
   "metadata": {},
   "source": [
    "# load and preprocess dataset"
   ]
  },
  {
   "cell_type": "code",
   "execution_count": 3,
   "id": "8d56d86a",
   "metadata": {},
   "outputs": [
    {
     "data": {
      "text/html": [
       "<div>\n",
       "<style scoped>\n",
       "    .dataframe tbody tr th:only-of-type {\n",
       "        vertical-align: middle;\n",
       "    }\n",
       "\n",
       "    .dataframe tbody tr th {\n",
       "        vertical-align: top;\n",
       "    }\n",
       "\n",
       "    .dataframe thead th {\n",
       "        text-align: right;\n",
       "    }\n",
       "</style>\n",
       "<table border=\"1\" class=\"dataframe\">\n",
       "  <thead>\n",
       "    <tr style=\"text-align: right;\">\n",
       "      <th></th>\n",
       "      <th>user</th>\n",
       "      <th>artist</th>\n",
       "      <th>track</th>\n",
       "      <th>playlist</th>\n",
       "    </tr>\n",
       "  </thead>\n",
       "  <tbody>\n",
       "    <tr>\n",
       "      <th>0</th>\n",
       "      <td>9cc0cfd4d7d7885102480dd99e7a90d6</td>\n",
       "      <td>Elvis Costello</td>\n",
       "      <td>(The Angels Wanna Wear My) Red Shoes</td>\n",
       "      <td>HARD ROCK 2010</td>\n",
       "    </tr>\n",
       "    <tr>\n",
       "      <th>1</th>\n",
       "      <td>9cc0cfd4d7d7885102480dd99e7a90d6</td>\n",
       "      <td>Elvis Costello &amp; The Attractions</td>\n",
       "      <td>(What's So Funny 'Bout) Peace, Love And Unders...</td>\n",
       "      <td>HARD ROCK 2010</td>\n",
       "    </tr>\n",
       "    <tr>\n",
       "      <th>2</th>\n",
       "      <td>9cc0cfd4d7d7885102480dd99e7a90d6</td>\n",
       "      <td>Tiffany Page</td>\n",
       "      <td>7 Years Too Late</td>\n",
       "      <td>HARD ROCK 2010</td>\n",
       "    </tr>\n",
       "    <tr>\n",
       "      <th>3</th>\n",
       "      <td>9cc0cfd4d7d7885102480dd99e7a90d6</td>\n",
       "      <td>Elvis Costello &amp; The Attractions</td>\n",
       "      <td>Accidents Will Happen</td>\n",
       "      <td>HARD ROCK 2010</td>\n",
       "    </tr>\n",
       "    <tr>\n",
       "      <th>4</th>\n",
       "      <td>9cc0cfd4d7d7885102480dd99e7a90d6</td>\n",
       "      <td>Elvis Costello</td>\n",
       "      <td>Alison</td>\n",
       "      <td>HARD ROCK 2010</td>\n",
       "    </tr>\n",
       "  </tbody>\n",
       "</table>\n",
       "</div>"
      ],
      "text/plain": [
       "                               user                            artist  \\\n",
       "0  9cc0cfd4d7d7885102480dd99e7a90d6                    Elvis Costello   \n",
       "1  9cc0cfd4d7d7885102480dd99e7a90d6  Elvis Costello & The Attractions   \n",
       "2  9cc0cfd4d7d7885102480dd99e7a90d6                      Tiffany Page   \n",
       "3  9cc0cfd4d7d7885102480dd99e7a90d6  Elvis Costello & The Attractions   \n",
       "4  9cc0cfd4d7d7885102480dd99e7a90d6                    Elvis Costello   \n",
       "\n",
       "                                               track        playlist  \n",
       "0               (The Angels Wanna Wear My) Red Shoes  HARD ROCK 2010  \n",
       "1  (What's So Funny 'Bout) Peace, Love And Unders...  HARD ROCK 2010  \n",
       "2                                   7 Years Too Late  HARD ROCK 2010  \n",
       "3                              Accidents Will Happen  HARD ROCK 2010  \n",
       "4                                             Alison  HARD ROCK 2010  "
      ]
     },
     "execution_count": 3,
     "metadata": {},
     "output_type": "execute_result"
    }
   ],
   "source": [
    "data = pd.read_csv(r\"C:\\Users\\Test\\Documents\\MLProject\\MusicRecommendationSystem\\dataset\\spotify_dataset.csv\", \n",
    "                   on_bad_lines = 'skip')\n",
    "\n",
    "data.columns = data.columns.str.replace('\"', '')\n",
    "data.columns = data.columns.str.replace('name', '')\n",
    "data.columns = data.columns.str.replace('_id', ' ')\n",
    "data.columns = data.columns.str.replace(' ','')\n",
    "\n",
    "data.head()"
   ]
  },
  {
   "cell_type": "markdown",
   "id": "e08bf8a5",
   "metadata": {},
   "source": [
    "### check for duplicates"
   ]
  },
  {
   "cell_type": "code",
   "execution_count": 25,
   "id": "82813830",
   "metadata": {},
   "outputs": [
    {
     "data": {
      "text/plain": [
       "0"
      ]
     },
     "execution_count": 25,
     "metadata": {},
     "output_type": "execute_result"
    }
   ],
   "source": [
    "data.duplicated().sum()"
   ]
  },
  {
   "cell_type": "markdown",
   "id": "b9c7d4f2",
   "metadata": {},
   "source": [
    "# analyze and visualize data"
   ]
  },
  {
   "cell_type": "code",
   "execution_count": 5,
   "id": "c194e297",
   "metadata": {},
   "outputs": [
    {
     "name": "stdout",
     "output_type": "stream",
     "text": [
      "12891680\n",
      "<class 'pandas.core.frame.DataFrame'>\n",
      "RangeIndex: 12891680 entries, 0 to 12891679\n",
      "Data columns (total 4 columns):\n",
      " #   Column    Dtype \n",
      "---  ------    ----- \n",
      " 0   user      object\n",
      " 1   artist    object\n",
      " 2   track     object\n",
      " 3   playlist  object\n",
      "dtypes: object(4)\n",
      "memory usage: 393.4+ MB\n"
     ]
    }
   ],
   "source": [
    "print(len(data))\n",
    "data.info()"
   ]
  },
  {
   "cell_type": "code",
   "execution_count": 6,
   "id": "0fc44029",
   "metadata": {},
   "outputs": [
    {
     "data": {
      "text/html": [
       "<div>\n",
       "<style scoped>\n",
       "    .dataframe tbody tr th:only-of-type {\n",
       "        vertical-align: middle;\n",
       "    }\n",
       "\n",
       "    .dataframe tbody tr th {\n",
       "        vertical-align: top;\n",
       "    }\n",
       "\n",
       "    .dataframe thead th {\n",
       "        text-align: right;\n",
       "    }\n",
       "</style>\n",
       "<table border=\"1\" class=\"dataframe\">\n",
       "  <thead>\n",
       "    <tr style=\"text-align: right;\">\n",
       "      <th></th>\n",
       "      <th>user</th>\n",
       "      <th>artist</th>\n",
       "      <th>track</th>\n",
       "      <th>playlist</th>\n",
       "    </tr>\n",
       "  </thead>\n",
       "  <tbody>\n",
       "    <tr>\n",
       "      <th>count</th>\n",
       "      <td>12891680</td>\n",
       "      <td>12858112</td>\n",
       "      <td>12891595</td>\n",
       "      <td>12890434</td>\n",
       "    </tr>\n",
       "    <tr>\n",
       "      <th>unique</th>\n",
       "      <td>15918</td>\n",
       "      <td>289821</td>\n",
       "      <td>2032044</td>\n",
       "      <td>157504</td>\n",
       "    </tr>\n",
       "    <tr>\n",
       "      <th>top</th>\n",
       "      <td>4398de6902abde3351347b048fcdc287</td>\n",
       "      <td>Daft Punk</td>\n",
       "      <td>Intro</td>\n",
       "      <td>Starred</td>\n",
       "    </tr>\n",
       "    <tr>\n",
       "      <th>freq</th>\n",
       "      <td>295275</td>\n",
       "      <td>36086</td>\n",
       "      <td>6676</td>\n",
       "      <td>1337085</td>\n",
       "    </tr>\n",
       "  </tbody>\n",
       "</table>\n",
       "</div>"
      ],
      "text/plain": [
       "                                    user     artist     track  playlist\n",
       "count                           12891680   12858112  12891595  12890434\n",
       "unique                             15918     289821   2032044    157504\n",
       "top     4398de6902abde3351347b048fcdc287  Daft Punk     Intro   Starred\n",
       "freq                              295275      36086      6676   1337085"
      ]
     },
     "execution_count": 6,
     "metadata": {},
     "output_type": "execute_result"
    }
   ],
   "source": [
    "data.describe(include = 'all')"
   ]
  },
  {
   "cell_type": "markdown",
   "id": "4b40fdcd",
   "metadata": {},
   "source": [
    "### most played song"
   ]
  },
  {
   "cell_type": "code",
   "execution_count": 7,
   "id": "7171a648",
   "metadata": {},
   "outputs": [
    {
     "data": {
      "text/plain": [
       "<AxesSubplot:>"
      ]
     },
     "execution_count": 7,
     "metadata": {},
     "output_type": "execute_result"
    },
    {
     "data": {
      "image/png": "[encoded data removed]",
      "text/plain": [
       "<Figure size 640x480 with 1 Axes>"
      ]
     },
     "metadata": {},
     "output_type": "display_data"
    }
   ],
   "source": [
    "data['track'].value_counts()[:10].plot(kind = 'barh')"
   ]
  },
  {
   "cell_type": "markdown",
   "id": "bd79f9b8",
   "metadata": {},
   "source": [
    "### most played artist"
   ]
  },
  {
   "cell_type": "code",
   "execution_count": 8,
   "id": "3ebe326d",
   "metadata": {},
   "outputs": [
    {
     "data": {
      "text/plain": [
       "<AxesSubplot:>"
      ]
     },
     "execution_count": 8,
     "metadata": {},
     "output_type": "execute_result"
    },
    {
     "data": {
      "image/png": "[encoded data removed]",
      "text/plain": [
       "<Figure size 640x480 with 1 Axes>"
      ]
     },
     "metadata": {},
     "output_type": "display_data"
    }
   ],
   "source": [
    "data['artist'].value_counts()[:10].plot(kind = 'barh')"
   ]
  },
  {
   "cell_type": "markdown",
   "id": "facdae04",
   "metadata": {},
   "source": [
    "### most played playlist"
   ]
  },
  {
   "cell_type": "code",
   "execution_count": 9,
   "id": "3ba0bc4f",
   "metadata": {},
   "outputs": [
    {
     "data": {
      "text/plain": [
       "<AxesSubplot:>"
      ]
     },
     "execution_count": 9,
     "metadata": {},
     "output_type": "execute_result"
    },
    {
     "data": {
      "image/png": "[encoded data removed]",
      "text/plain": [
       "<Figure size 640x480 with 1 Axes>"
      ]
     },
     "metadata": {},
     "output_type": "display_data"
    }
   ],
   "source": [
    "data['playlist'].value_counts()[:10].plot(kind = 'barh')"
   ]
  },
  {
   "cell_type": "code",
   "execution_count": 10,
   "id": "787826df",
   "metadata": {},
   "outputs": [
    {
     "name": "stdout",
     "output_type": "stream",
     "text": [
      " Dolce\n"
     ]
    }
   ],
   "source": [
    "most_listened_artist = str(data.groupby('artist').count()['playlist'].index[0])\n",
    "print(most_listened_artist)"
   ]
  },
  {
   "cell_type": "markdown",
   "id": "7d8e6872",
   "metadata": {},
   "source": [
    "## recommendation system "
   ]
  },
  {
   "cell_type": "code",
   "execution_count": 11,
   "id": "35fc939b",
   "metadata": {},
   "outputs": [
    {
     "data": {
      "text/html": [
       "<div>\n",
       "<style scoped>\n",
       "    .dataframe tbody tr th:only-of-type {\n",
       "        vertical-align: middle;\n",
       "    }\n",
       "\n",
       "    .dataframe tbody tr th {\n",
       "        vertical-align: top;\n",
       "    }\n",
       "\n",
       "    .dataframe thead th {\n",
       "        text-align: right;\n",
       "    }\n",
       "</style>\n",
       "<table border=\"1\" class=\"dataframe\">\n",
       "  <thead>\n",
       "    <tr style=\"text-align: right;\">\n",
       "      <th></th>\n",
       "      <th>user</th>\n",
       "      <th>artist</th>\n",
       "      <th>track</th>\n",
       "      <th>playlist</th>\n",
       "      <th>artist_id</th>\n",
       "      <th>user_id</th>\n",
       "    </tr>\n",
       "  </thead>\n",
       "  <tbody>\n",
       "    <tr>\n",
       "      <th>0</th>\n",
       "      <td>9cc0cfd4d7d7885102480dd99e7a90d6</td>\n",
       "      <td>Elvis Costello</td>\n",
       "      <td>(The Angels Wanna Wear My) Red Shoes</td>\n",
       "      <td>HARD ROCK 2010</td>\n",
       "      <td>1</td>\n",
       "      <td>1</td>\n",
       "    </tr>\n",
       "    <tr>\n",
       "      <th>1</th>\n",
       "      <td>9cc0cfd4d7d7885102480dd99e7a90d6</td>\n",
       "      <td>Elvis Costello &amp; The Attractions</td>\n",
       "      <td>(What's So Funny 'Bout) Peace, Love And Unders...</td>\n",
       "      <td>HARD ROCK 2010</td>\n",
       "      <td>2</td>\n",
       "      <td>1</td>\n",
       "    </tr>\n",
       "    <tr>\n",
       "      <th>2</th>\n",
       "      <td>9cc0cfd4d7d7885102480dd99e7a90d6</td>\n",
       "      <td>Tiffany Page</td>\n",
       "      <td>7 Years Too Late</td>\n",
       "      <td>HARD ROCK 2010</td>\n",
       "      <td>3</td>\n",
       "      <td>1</td>\n",
       "    </tr>\n",
       "    <tr>\n",
       "      <th>3</th>\n",
       "      <td>9cc0cfd4d7d7885102480dd99e7a90d6</td>\n",
       "      <td>Elvis Costello &amp; The Attractions</td>\n",
       "      <td>Accidents Will Happen</td>\n",
       "      <td>HARD ROCK 2010</td>\n",
       "      <td>2</td>\n",
       "      <td>1</td>\n",
       "    </tr>\n",
       "    <tr>\n",
       "      <th>4</th>\n",
       "      <td>9cc0cfd4d7d7885102480dd99e7a90d6</td>\n",
       "      <td>Elvis Costello</td>\n",
       "      <td>Alison</td>\n",
       "      <td>HARD ROCK 2010</td>\n",
       "      <td>1</td>\n",
       "      <td>1</td>\n",
       "    </tr>\n",
       "  </tbody>\n",
       "</table>\n",
       "</div>"
      ],
      "text/plain": [
       "                               user                            artist  \\\n",
       "0  9cc0cfd4d7d7885102480dd99e7a90d6                    Elvis Costello   \n",
       "1  9cc0cfd4d7d7885102480dd99e7a90d6  Elvis Costello & The Attractions   \n",
       "2  9cc0cfd4d7d7885102480dd99e7a90d6                      Tiffany Page   \n",
       "3  9cc0cfd4d7d7885102480dd99e7a90d6  Elvis Costello & The Attractions   \n",
       "4  9cc0cfd4d7d7885102480dd99e7a90d6                    Elvis Costello   \n",
       "\n",
       "                                               track        playlist  \\\n",
       "0               (The Angels Wanna Wear My) Red Shoes  HARD ROCK 2010   \n",
       "1  (What's So Funny 'Bout) Peace, Love And Unders...  HARD ROCK 2010   \n",
       "2                                   7 Years Too Late  HARD ROCK 2010   \n",
       "3                              Accidents Will Happen  HARD ROCK 2010   \n",
       "4                                             Alison  HARD ROCK 2010   \n",
       "\n",
       "   artist_id  user_id  \n",
       "0          1        1  \n",
       "1          2        1  \n",
       "2          3        1  \n",
       "3          2        1  \n",
       "4          1        1  "
      ]
     },
     "execution_count": 11,
     "metadata": {},
     "output_type": "execute_result"
    }
   ],
   "source": [
    "def mapper(col):\n",
    "    coded_dict = dict()\n",
    "    cter = 1\n",
    "    encoded = []\n",
    "    \n",
    "    for val in data[col]:\n",
    "        if val not in coded_dict:\n",
    "            coded_dict[val] = cter\n",
    "            cter += 1\n",
    "        encoded.append(coded_dict[val])\n",
    "    return encoded\n",
    "\n",
    "artist_id = mapper('artist')\n",
    "user_id = mapper('user')\n",
    "\n",
    "data['artist_id'] = artist_id\n",
    "data['user_id'] = user_id\n",
    "\n",
    "data.head()"
   ]
  },
  {
   "cell_type": "code",
   "execution_count": 12,
   "id": "26c05300",
   "metadata": {},
   "outputs": [
    {
     "name": "stdout",
     "output_type": "stream",
     "text": [
      "Number of user IDs in the dataset: 15918\n"
     ]
    }
   ],
   "source": [
    "df = pd.DataFrame(data)\n",
    "# Count the number of unique user IDs\n",
    "num_user_ids = df['user_id'].nunique()\n",
    "\n",
    "# Print the result\n",
    "print(\"Number of user IDs in the dataset:\", num_user_ids)"
   ]
  },
  {
   "cell_type": "markdown",
   "id": "2dc9ce46",
   "metadata": {},
   "source": [
    "### create matrix"
   ]
  },
  {
   "cell_type": "code",
   "execution_count": 14,
   "id": "78652e7d",
   "metadata": {},
   "outputs": [
    {
     "name": "stdout",
     "output_type": "stream",
     "text": [
      "artist_id  user_id  1  2  4  5  9  10  11  12  15  ...  288801  288824  \\\n",
      "0                1  0  0  0  0  0   0   1   0   0  ...       0       0   \n",
      "1                2  0  0  0  0  0   0   0   0   0  ...       0       0   \n",
      "2                3  0  0  0  0  0   0   0   0   0  ...       0       0   \n",
      "3                6  0  0  0  0  0   0   0   0   0  ...       0       0   \n",
      "4                8  0  0  0  0  0   0   0   0   0  ...       0       0   \n",
      "\n",
      "artist_id  288861  289006  289155  289216  289225  289519  289730  289776  \n",
      "0               0       0       0       0       0       0       0       0  \n",
      "1               0       0       0       0       0       0       0       0  \n",
      "2               0       0       0       0       0       0       0       0  \n",
      "3               0       0       0       0       0       0       0       0  \n",
      "4               0       0       0       0       0       0       0       0  \n",
      "\n",
      "[5 rows x 20580 columns]\n"
     ]
    }
   ],
   "source": [
    "data = data.sample(frac=0.10)\n",
    "# the dataset is too large so I only use randomized 10% of the data \n",
    "\n",
    "def create_user_artist_matrix(data):\n",
    "    data['interact'] = 1\n",
    "    user_artist = data.groupby(['user_id', 'artist_id'])['interact'].max().unstack().fillna(0).astype('int')\n",
    "    user_artist.reset_index(inplace=True) \n",
    "    return user_artist\n",
    "\n",
    "user_artist = create_user_artist_matrix(data)\n",
    "print(user_artist.head())\n"
   ]
  },
  {
   "cell_type": "markdown",
   "id": "c21354c3",
   "metadata": {},
   "source": [
    "### calculate cosine similarity"
   ]
  },
  {
   "cell_type": "code",
   "execution_count": 16,
   "id": "395d2e16",
   "metadata": {},
   "outputs": [
    {
     "name": "stdout",
     "output_type": "stream",
     "text": [
      "The 10 most similar user_ids to user_id 570 are: [10768, 10767, 10766, 10765, 10764, 10763, 10762, 10761, 10760, 10759]\n",
      "The 10 most similar user_ids to user_id 50 are: [10768, 10767, 10766, 10765, 10764, 10763, 10762, 10761, 10760, 10759]\n"
     ]
    }
   ],
   "source": [
    "def find_similar_users(user_id, user_artist = user_artist):\n",
    "    \n",
    "    # compute similarity of each user to the provided user \n",
    "    # compute similarity with cosine similarity ( dot product of 2 vectors )\n",
    "    similarity_users = np.dot(user_artist[user_id - 1: user_id], user_artist.transpose())\n",
    "    similarity_users = pd.DataFrame(similarity_users)\n",
    "    similarity_users = similarity_users.transpose()\n",
    "    similarity_users.columns = ['similarity_users']\n",
    "\n",
    "    # sort by similarity:\n",
    "    similarity_users = similarity_users.sort_values(['similarity_users'], ascending = False)\n",
    "\n",
    "    # create list of just the ids:\n",
    "    similarity_users['ids'] = similarity_users.index + 1\n",
    "    \n",
    "    most_similar_users = list(similarity_users.ids)\n",
    "    # remove the own user's id:\n",
    "    most_similar_users.remove((user_id))\n",
    "       \n",
    "    return most_similar_users \n",
    "\n",
    "\n",
    "print(\"The 10 most similar user_ids to user_id 570 are: {}\".format(find_similar_users(570)[:10]))\n",
    "print(\"The 10 most similar user_ids to user_id 50 are: {}\".format(find_similar_users(50)[:10]))\n"
   ]
  },
  {
   "cell_type": "markdown",
   "id": "b95f84b3",
   "metadata": {},
   "source": [
    "Once you have identified the most similar users, you can use their historical interactions with artists \n",
    "to make recommendations for the target user. One approach is to identify the artists that are most popular among the similar users \n",
    "and recommend those to the target user. Another approach is to use collaborative filtering to recommend artists\n",
    "that the similar users have listened to and the target user has not.\n",
    "\n",
    "Here are some possible next steps you can take:\n",
    "\n",
    "Use the identified most similar users to make recommendations for the target user\n",
    "based on their listening history. This could involve recommending the most popular artists \n",
    "among the similar users or using collaborative filtering to recommend artists \n",
    "that the similar users have listened to and the target user has not.\n",
    "\n",
    "Use a content-based approach to make recommendations for the target user. \n",
    "This involves analyzing the characteristics of the songs that a user has listened to\n",
    "and recommending similar songs. This approach does not require information about other users\n",
    "and can be used to make personalized recommendations.\n",
    "\n",
    "Combine the collaborative filtering and content-based approaches to make hybrid recommendations that take into account \n",
    "both the user's listening history and the characteristics of the songs they have listened to.\n",
    "\n",
    "Use machine learning algorithms such as matrix factorization, deep learning-based collaborative filtering, \n",
    "or other collaborative filtering algorithms to build a more sophisticated recommendation system. \n",
    "These algorithms can be used to learn latent factors that capture the underlying patterns in the user-item interaction data\n",
    "and make more accurate recommendations."
   ]
  },
  {
   "cell_type": "code",
   "execution_count": 22,
   "id": "eb6ac448",
   "metadata": {},
   "outputs": [],
   "source": [
    "def get_songs_name(artist_ids, data = data):\n",
    "    \n",
    "    artists = data['artist_id'].isin(artist_ids)\n",
    "    songs = list(set(data[artists]['playlist']))\n",
    "    \n",
    "    # Return the playlist names associated with list of artist ids\n",
    "    return songs\n",
    "\n",
    "def get_user_artist(user_id, user_artist = user_artist):\n",
    "\n",
    "    art = data['user_id'] == user_id\n",
    "    ids = (data[art]['artist_id']).astype('str')\n",
    "    artist_ids = list(set(ids))\n",
    "    song = get_songs_name(artist_ids, data)\n",
    "    \n",
    "    # return the artist's ids and songs(track)\n",
    "    return artist_ids, song"
   ]
  },
  {
   "cell_type": "code",
   "execution_count": 24,
   "id": "3fe39d33",
   "metadata": {},
   "outputs": [
    {
     "name": "stdout",
     "output_type": "stream",
     "text": [
      "The top 10 recommendations for user_id 14000, are the following artists ids:\n",
      "['229183', '7979', '10', '1413', '639', '1379', '20533', '223870', '3761', '42015']\n"
     ]
    }
   ],
   "source": [
    "def get_top_sorted_users(user_id, data = data, user_artist = user_artist):\n",
    "    \n",
    "    neighbors = {}\n",
    "    for user in user_artist.index:\n",
    "        neighbors[user] = [np.dot(user_artist.loc[user_id], np.transpose(user_artist.loc[user])), data[data['user_id'] == user].shape[0]]\n",
    "\n",
    "    # sort by similarity\n",
    "    neighbors = pd.DataFrame.from_dict(neighbors, orient = 'index').sort_values([0, 1], ascending = False)\n",
    " \n",
    "    neighbors.drop(user_id, axis = 0, inplace = True) \n",
    "    \n",
    "    neighbors.reset_index(inplace = True)\n",
    "    \n",
    "    neighbors.columns = ['neighbors_id', 'similarity', 'num_interactions']\n",
    "    \n",
    "    # Return the dataframe specified in the string\n",
    "    return neighbors\n",
    "\n",
    "\n",
    "def user_user_recs_part2(user_id, num = 10):\n",
    "    \n",
    "    user_listened_ids = get_user_artist(user_id, user_artist)[0]\n",
    "    neighbors = get_top_sorted_users(user_id, data, user_artist)\n",
    "    recs = []\n",
    "    \n",
    "    for user in neighbors.neighbors_id.values:\n",
    "    \n",
    "        sim_user_id = get_user_artist(user, user_artist)[0]\n",
    "        \n",
    "        recs_to_add = np.setdiff1d(sim_user_id, user_listened_ids)\n",
    "        recs_to_add = np.setdiff1d(recs_to_add, recs)\n",
    "                \n",
    "        recs.extend(recs_to_add)\n",
    "        if len(recs) >= num:\n",
    "            break\n",
    "    \n",
    "    recs = recs[:num]\n",
    "    rec_names = get_songs_name(recs, data)\n",
    "    \n",
    "    return recs, rec_names\n",
    "\n",
    "#test\n",
    "rec_ids, rec_names = user_user_recs_part2(1400, 10)\n",
    "\n",
    "print(\"The top 10 recommendations for user_id 14000, are the following artists ids:\")\n",
    "print(rec_ids)"
   ]
  },
  {
   "cell_type": "markdown",
   "id": "b59c793f",
   "metadata": {},
   "source": [
    "def get_songs_name(artist_ids, data = data):: This function takes a list of artist ids as input \n",
    "        and returns the names of the songs associated with those artists.\n",
    "\n",
    "def get_user_artist(user_id, user_artist = user_artist):: This function takes a user id as input \n",
    "        and returns two lists - a list of artist ids that the user has listened to and a list of song names \n",
    "        associated with those artists.\n",
    "\n",
    "def get_top_sorted_users(user_id, data = data, user_artist = user_artist):: This function takes a user id as input \n",
    "        and returns a sorted dataframe of all other users in the dataset based on their similarity to the input user. \n",
    "        The similarity is computed using the dot product of the user-artist matrix for the input user and each other user.\n",
    "\n",
    "def user_user_recs_part2(user_id, num = 10):: This function takes a user id as input and returns a list of recommended songs \n",
    "    for that user. It first gets the list of artist ids that the user has listened to using the get_user_artist() function.\n",
    "    It then finds the top similar users to the input user using the get_top_sorted_users() function. \n",
    "    For each of the top similar users, it gets the list of artist ids they have listened to, \n",
    "    and adds any new artist ids to the recommended list. The function stops adding new artist ids once it reaches \n",
    "    the desired number of recommendations specified by the num parameter. \n",
    "    Finally, it returns the list of recommended artist ids and their associated song names \n",
    "    using the get_songs_name() function"
   ]
  }
 ],
 "metadata": {
  "kernelspec": {
   "display_name": "Python 3 (ipykernel)",
   "language": "python",
   "name": "python3"
  },
  "language_info": {
   "codemirror_mode": {
    "name": "ipython",
    "version": 3
   },
   "file_extension": ".py",
   "mimetype": "text/x-python",
   "name": "python",
   "nbconvert_exporter": "python",
   "pygments_lexer": "ipython3",
   "version": "3.9.13"
  }
 },
 "nbformat": 4,
 "nbformat_minor": 5
}
